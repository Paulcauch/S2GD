{
 "cells": [
  {
   "cell_type": "code",
   "execution_count": 1,
   "metadata": {},
   "outputs": [],
   "source": [
    "#Import \n",
    "import numpy as np \n",
    "import matplotlib.pyplot as plt\n",
    "from torchvision import datasets, transforms\n",
    "from scipy.linalg import norm"
   ]
  },
  {
   "cell_type": "code",
   "execution_count": 2,
   "metadata": {},
   "outputs": [],
   "source": [
    "from SGD_GD import stoch_grad\n",
    "from L2regpb import L2regLS\n",
    "from utils import generate_pb_parameters\n",
    "from S2GD import S2GD\n",
    "from SAGA import SAGA"
   ]
  },
  {
   "cell_type": "markdown",
   "metadata": {},
   "source": [
    "# Synthetic Least Squares"
   ]
  },
  {
   "cell_type": "code",
   "execution_count": 3,
   "metadata": {},
   "outputs": [
    {
     "name": "stdout",
     "output_type": "stream",
     "text": [
      "0.017444404644904078\n"
     ]
    }
   ],
   "source": [
    "d = int(50)\n",
    "n = int(25000)\n",
    "idx = np.arange(d)\n",
    "lbda = 1. / n ** (0.5)\n",
    "#lbda = 0\n",
    "kappa = 1e3\n",
    "\n",
    "np.random.seed(1)\n",
    "\n",
    "# Ground truth coefficients of the model\n",
    "x_model_truth = (-1)**idx * np.exp(-idx / 10.)\n",
    "\n",
    "A, y = generate_pb_parameters(x_model_truth, n, d, kappa,lbda, std=0, corr=0.7)\n",
    "ylog = np.sign(y) # Taking the logarithm for binary classification\n",
    "yone = np.copy(ylog)\n",
    "yone[ylog==-1] = 0 \n",
    "\n",
    "pbL2reg = L2regLS(A,y,lbda,'l2')\n",
    "\n",
    "print(pbL2reg.fun(x_model_truth))"
   ]
  },
  {
   "cell_type": "code",
   "execution_count": 23,
   "metadata": {},
   "outputs": [
    {
     "name": "stdout",
     "output_type": "stream",
     "text": [
      "Stochastic Gradient, batch size= 1 / 25000\n",
      "  iter   |   fval   |  normit \n",
      "       0 | 5.19e+01 | 6.33e+00\n",
      "   25000 | 4.75e-02 | 1.67e+00\n",
      "   50000 | 3.24e-02 | 1.34e+00\n",
      "   75000 | 2.61e-02 | 1.13e+00\n",
      "  100000 | 2.29e-02 | 9.68e-01\n",
      "  125000 | 2.11e-02 | 8.46e-01\n",
      "  150000 | 2.01e-02 | 7.48e-01\n",
      "  175000 | 1.94e-02 | 6.68e-01\n",
      "  200000 | 1.89e-02 | 5.99e-01\n",
      "  225000 | 1.86e-02 | 5.40e-01\n",
      "  250000 | 1.84e-02 | 4.88e-01\n",
      "  275000 | 1.82e-02 | 4.42e-01\n",
      "  300000 | 1.80e-02 | 4.02e-01\n",
      "  325000 | 1.79e-02 | 3.66e-01\n",
      "  350000 | 1.78e-02 | 3.34e-01\n",
      "  375000 | 1.77e-02 | 3.05e-01\n",
      "  400000 | 1.77e-02 | 2.79e-01\n"
     ]
    }
   ],
   "source": [
    "x0 = np.random.randn(d)\n",
    "x_sgd,obj_val_sgd,_,nb_comp_grad_sgd = stoch_grad(x0=x0,problem=pbL2reg,xtarget=x_model_truth,stepchoice=0,step0=3e-3, n_iter=400000,nb=1,with_replace=False,verbose=True,fast=True)"
   ]
  },
  {
   "cell_type": "code",
   "execution_count": 24,
   "metadata": {},
   "outputs": [
    {
     "name": "stdout",
     "output_type": "stream",
     "text": [
      "h= 0.0012971039570516866 m= 23467 n_iter= 19\n",
      "S2GD, n=25000. Exepcted number of inner loop at each iteration: 12114 in [11734,23467)\n",
      "  iter   |   fval   |  normit  |    t    \n",
      "       0 | 5.19e+01 | 6.33e+00 | 0.00e+00\n",
      "       1 | 3.76e+00 | 2.40e+00 | 1.41e+04\n",
      "       2 | 3.00e-01 | 1.23e+00 | 1.76e+04\n",
      "       3 | 3.87e-02 | 8.56e-01 | 1.87e+04\n",
      "       4 | 2.22e-02 | 7.32e-01 | 1.09e+04\n",
      "       5 | 1.92e-02 | 6.14e-01 | 1.40e+04\n",
      "       6 | 1.89e-02 | 5.92e-01 | 3.09e+03\n",
      "       7 | 1.89e-02 | 5.86e-01 | 7.42e+02\n",
      "       8 | 1.83e-02 | 4.71e-01 | 1.91e+04\n",
      "       9 | 1.80e-02 | 3.98e-01 | 1.54e+04\n",
      "      10 | 1.78e-02 | 3.30e-01 | 1.79e+04\n",
      "      11 | 1.77e-02 | 2.82e-01 | 1.56e+04\n",
      "      12 | 1.77e-02 | 2.80e-01 | 9.72e+02\n",
      "      13 | 1.76e-02 | 2.69e-01 | 4.11e+03\n",
      "      14 | 1.76e-02 | 2.28e-01 | 1.69e+04\n",
      "      15 | 1.75e-02 | 2.13e-01 | 7.77e+03\n",
      "      16 | 1.75e-02 | 1.92e-01 | 1.12e+04\n",
      "      17 | 1.75e-02 | 1.83e-01 | 5.62e+03\n",
      "      18 | 1.75e-02 | 1.75e-01 | 5.13e+03\n",
      "      19 | 1.75e-02 | 1.66e-01 | 5.86e+03\n"
     ]
    }
   ],
   "source": [
    "x_s2gd,obj_val_s2gd,_,nb_comp_grad_s2gd = S2GD(x0=x0,problem=pbL2reg,xtarget=x_model_truth,h=-1,m=10,nu=pbL2reg.cvxval(),eps_tol=1e-8,n_iter=20,plus=False)"
   ]
  },
  {
   "cell_type": "code",
   "execution_count": 25,
   "metadata": {},
   "outputs": [
    {
     "data": {
      "text/plain": [
       "[<matplotlib.lines.Line2D at 0x17ec85e90>]"
      ]
     },
     "execution_count": 25,
     "metadata": {},
     "output_type": "execute_result"
    },
    {
     "data": {
      "image/png": "[encoded data removed]",
      "text/plain": [
       "<Figure size 640x480 with 1 Axes>"
      ]
     },
     "metadata": {},
     "output_type": "display_data"
    }
   ],
   "source": [
    "plt.semilogy(nb_comp_grad_sgd,obj_val_sgd)\n",
    "plt.semilogy(nb_comp_grad_s2gd,obj_val_s2gd)"
   ]
  },
  {
   "cell_type": "markdown",
   "metadata": {},
   "source": [
    "# MNIST logistic"
   ]
  },
  {
   "cell_type": "code",
   "execution_count": 26,
   "metadata": {},
   "outputs": [],
   "source": [
    "def load_mnist_5_8():\n",
    "    # Charger les datasets MNIST pour l'entraînement et le test\n",
    "    mnist_train = datasets.MNIST(root=\"./data\", train=True, download=True, transform=transforms.ToTensor())\n",
    "    mnist_test = datasets.MNIST(root=\"./data\", train=False, download=True, transform=transforms.ToTensor())\n",
    "    \n",
    "    # Filtrer les classes 5 et 8 pour l'entraînement\n",
    "    train_indices_5_8 = np.where((mnist_train.targets == 5) | (mnist_train.targets == 8))[0]\n",
    "    train_data_5_8 = mnist_train.data[train_indices_5_8]\n",
    "    train_labels_5_8 = mnist_train.targets[train_indices_5_8]\n",
    "    \n",
    "    # Filtrer les classes 5 et 8 pour le test\n",
    "    test_indices_5_8 = np.where((mnist_test.targets == 5) | (mnist_test.targets == 8))[0]\n",
    "    test_data_5_8 = mnist_test.data[test_indices_5_8]\n",
    "    test_labels_5_8 = mnist_test.targets[test_indices_5_8]\n",
    "    \n",
    "    # Convertir les labels en {0, 1} (5 -> -1, 8 -> 1)\n",
    "    train_labels_5_8[train_labels_5_8 == 5] = -1\n",
    "    train_labels_5_8[train_labels_5_8 == 8] = 1\n",
    "    test_labels_5_8[test_labels_5_8 == 5] = -1\n",
    "    test_labels_5_8[test_labels_5_8 == 8] = 1\n",
    "    \n",
    "\n",
    "    # Aplatir les images en vecteurs (28x28 -> 784) et normaliser\n",
    "    train_A = train_data_5_8.view(train_data_5_8.size(0), -1).float() / 255.0\n",
    "    test_A = test_data_5_8.view(test_data_5_8.size(0), -1).float() / 255.0\n",
    "    # train_A = train_data_5_8.view(train_data_5_8.size(0), -1).float() \n",
    "    # test_A = test_data_5_8.view(test_data_5_8.size(0), -1).float() \n",
    "\n",
    "    # Ajouter une colonne de biais à chaque matrice\n",
    "    # train_bias = torch.ones((train_A.size(0), 1))\n",
    "    # test_bias = torch.ones((test_A.size(0), 1))\n",
    "    # train_A = torch.cat((train_A, train_bias), dim=1)  # train_A de dimension (n_train, 785)\n",
    "    # test_A = torch.cat((test_A, test_bias), dim=1)    # test_A de dimension (n_test, 785)\n",
    "    \n",
    "    # Retourner les données\n",
    "    return train_A.numpy(), train_labels_5_8.numpy(), test_A.numpy(), test_labels_5_8.numpy()\n",
    "\n",
    "# Charger les données\n",
    "train_A, train_y, test_A, test_y = load_mnist_5_8()"
   ]
  },
  {
   "cell_type": "code",
   "execution_count": 27,
   "metadata": {},
   "outputs": [
    {
     "data": {
      "text/plain": [
       "239.1598365443281"
      ]
     },
     "execution_count": 27,
     "metadata": {},
     "output_type": "execute_result"
    }
   ],
   "source": [
    "lbda = 0.05\n",
    "d = train_A.shape[1]\n",
    "pblogreg = L2regLS(train_A,train_y,lbda,loss='logistic11')\n",
    "pblogreg.kappa_val"
   ]
  },
  {
   "cell_type": "markdown",
   "metadata": {},
   "source": [
    "#### Run GD for a lot of epochs to have an estimate solution"
   ]
  },
  {
   "cell_type": "code",
   "execution_count": null,
   "metadata": {},
   "outputs": [],
   "source": [
    "x_gd,obj_val_gd,_= stoch_grad(x0=x0,problem=pblogreg,xtarget=np.zeros(d),stepchoice=0,step0=1, n_iter=5000,nb=pblogreg.n,with_replace=False,verbose=True)\n",
    "f_star = obj_val_gd[-1]\n",
    "x_star = x_gd"
   ]
  },
  {
   "cell_type": "code",
   "execution_count": null,
   "metadata": {},
   "outputs": [],
   "source": [
    "x0 = np.random.randn(d)\n",
    "x_sgd,obj_val_sgd,_,nb_comp_grad_sgd = stoch_grad(x0=x0,problem=pblogreg,xtarget=x_star,stepchoice=0,step0=1e-2, n_iter=50000,nb=1,with_replace=False,verbose=True,fast=True)"
   ]
  },
  {
   "cell_type": "code",
   "execution_count": null,
   "metadata": {},
   "outputs": [],
   "source": [
    "x_s2gd,obj_val_s2gd,_,nb_comp_grad_s2gd = S2GD(x0=x0,problem=pblogreg,xtarget=x_star,h=-1,m=10,nu=pblogreg.cvxval(),eps_tol=1e-15,n_iter=30,plus=True)"
   ]
  },
  {
   "cell_type": "code",
   "execution_count": null,
   "metadata": {},
   "outputs": [],
   "source": [
    "x_saga,obj_val_saga,_,nb_comp_grad_saga = SAGA(x0,pblogreg,x_star,-1,1e-10,50000,fast=True)"
   ]
  },
  {
   "cell_type": "code",
   "execution_count": null,
   "metadata": {},
   "outputs": [],
   "source": [
    "plt.semilogy(nb_comp_grad_sgd,obj_val_sgd-f_star)\n",
    "plt.semilogy(nb_comp_grad_s2gd,obj_val_s2gd-f_star)\n",
    "plt.semilogy(nb_comp_grad_saga,obj_val_saga-f_star)"
   ]
  },
  {
   "cell_type": "code",
   "execution_count": null,
   "metadata": {},
   "outputs": [],
   "source": [
    "error_s2gd = 0\n",
    "error_sgd = 0\n",
    "for  i in range(len(test_y)):\n",
    "    if np.sign(np.dot(test_A,x_s2gd))[i] != test_y[i] : \n",
    "        error_s2gd += 1\n",
    "    if np.sign(np.dot(test_A,x_sgd))[i] != test_y[i] : \n",
    "        error_sgd += 1\n",
    "error_s2gd /= len(test_y)\n",
    "error_sgd /= len(test_y)\n",
    "error_s2gd, error_sgd"
   ]
  }
 ],
 "metadata": {
  "kernelspec": {
   "display_name": "base",
   "language": "python",
   "name": "python3"
  },
  "language_info": {
   "codemirror_mode": {
    "name": "ipython",
    "version": 3
   },
   "file_extension": ".py",
   "mimetype": "text/x-python",
   "name": "python",
   "nbconvert_exporter": "python",
   "pygments_lexer": "ipython3",
   "version": "3.11.10"
  }
 },
 "nbformat": 4,
 "nbformat_minor": 2
}
